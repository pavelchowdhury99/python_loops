{
 "cells": [
  {
   "cell_type": "markdown",
   "metadata": {},
   "source": [
    "# Loops in Python"
   ]
  },
  {
   "cell_type": "markdown",
   "metadata": {},
   "source": [
    "## While Loop"
   ]
  },
  {
   "attachments": {},
   "cell_type": "markdown",
   "metadata": {},
   "source": [
    "#### Syntax for while"
   ]
  },
  {
   "cell_type": "code",
   "execution_count": 12,
   "metadata": {},
   "outputs": [
    {
     "name": "stdout",
     "output_type": "stream",
     "text": [
      "1\n",
      "2\n",
      "3\n",
      "4\n",
      "a\n"
     ]
    }
   ],
   "source": [
    "a=1\n",
    "b=5\n",
    "\n",
    "while a<b:\n",
    "    print(a)\n",
    "    a+=1\n",
    "\n",
    "print('a')"
   ]
  },
  {
   "cell_type": "code",
   "execution_count": 5,
   "metadata": {},
   "outputs": [
    {
     "name": "stdout",
     "output_type": "stream",
     "text": [
      "1\n",
      "2\n",
      "3\n",
      "4\n",
      "a\n"
     ]
    }
   ],
   "source": [
    "a=1\n",
    "b=10\n",
    "\n",
    "while a<b:\n",
    "    print(a)\n",
    "    a+=1\n",
    "    if a==5:break\n",
    "else:\n",
    "    print('I am in else')\n",
    "\n",
    "\n",
    "print('a')"
   ]
  },
  {
   "cell_type": "code",
   "execution_count": 6,
   "metadata": {},
   "outputs": [
    {
     "name": "stdout",
     "output_type": "stream",
     "text": [
      "1\n",
      "3\n",
      "5\n",
      "7\n",
      "9\n",
      "I am in else\n",
      "a\n"
     ]
    }
   ],
   "source": [
    "a=1\n",
    "b=10\n",
    "\n",
    "while a<b:\n",
    "    if a%2==0: \n",
    "        a+=1\n",
    "        continue\n",
    "    print(a)\n",
    "    a+=1\n",
    "else:\n",
    "    print('I am in else')\n",
    "\n",
    "\n",
    "print('a')"
   ]
  },
  {
   "cell_type": "code",
   "execution_count": 19,
   "metadata": {},
   "outputs": [
    {
     "name": "stdout",
     "output_type": "stream",
     "text": [
      "19\n",
      "Breaking\n"
     ]
    }
   ],
   "source": [
    "a=15\n",
    "b=20\n",
    "\n",
    "while b>a:\n",
    "    if b%2==0:\n",
    "        b-=1\n",
    "        continue\n",
    "    if b==17:\n",
    "        print('Breaking')\n",
    "        break\n",
    "    print(b)\n",
    "    b-=1\n",
    "else:\n",
    "    print('Exited the loop while any breaks')"
   ]
  },
  {
   "attachments": {},
   "cell_type": "markdown",
   "metadata": {},
   "source": [
    "#### Nested While"
   ]
  },
  {
   "cell_type": "code",
   "execution_count": 7,
   "metadata": {},
   "outputs": [
    {
     "name": "stdout",
     "output_type": "stream",
     "text": [
      "1 19\n",
      "1 17\n",
      "2 19\n",
      "2 17\n",
      "3 19\n",
      "3 17\n",
      "4 19\n",
      "4 17\n"
     ]
    }
   ],
   "source": [
    "c = 1\n",
    "d = 5\n",
    "\n",
    "while c < d:\n",
    "    a = 15\n",
    "    b = 20\n",
    "    while b > a:\n",
    "        if b % 2 == 0:\n",
    "            b-=1\n",
    "            continue\n",
    "        if b == 16:\n",
    "            b-=1\n",
    "            break\n",
    "        print(c, b)\n",
    "        b -= 1\n",
    "    c += 1\n"
   ]
  },
  {
   "attachments": {},
   "cell_type": "markdown",
   "metadata": {},
   "source": [
    "## For Loop"
   ]
  },
  {
   "attachments": {},
   "cell_type": "markdown",
   "metadata": {},
   "source": [
    "### Unpacking"
   ]
  },
  {
   "cell_type": "code",
   "execution_count": 8,
   "metadata": {},
   "outputs": [
    {
     "name": "stdout",
     "output_type": "stream",
     "text": [
      "1 2\n"
     ]
    }
   ],
   "source": [
    "a,b=1,2\n",
    "print(a,b)"
   ]
  },
  {
   "cell_type": "code",
   "execution_count": 9,
   "metadata": {},
   "outputs": [
    {
     "name": "stdout",
     "output_type": "stream",
     "text": [
      "1 2 3\n"
     ]
    }
   ],
   "source": [
    "((a,b),c)=((1,2),3)\n",
    "print(a,b,c)"
   ]
  },
  {
   "cell_type": "code",
   "execution_count": 12,
   "metadata": {},
   "outputs": [
    {
     "name": "stdout",
     "output_type": "stream",
     "text": [
      "X Y 3\n"
     ]
    }
   ],
   "source": [
    "((a,b),c)=('XY',3)\n",
    "print(a,b,c)"
   ]
  },
  {
   "cell_type": "code",
   "execution_count": 13,
   "metadata": {},
   "outputs": [
    {
     "name": "stdout",
     "output_type": "stream",
     "text": [
      "1 [2, 4, 5] 6\n"
     ]
    }
   ],
   "source": [
    "(a,*b,c)=(1,2,4,5,6)\n",
    "print(a,b,c)"
   ]
  },
  {
   "cell_type": "code",
   "execution_count": 14,
   "metadata": {},
   "outputs": [
    {
     "name": "stdout",
     "output_type": "stream",
     "text": [
      "1 2 [4, 5, 6]\n"
     ]
    }
   ],
   "source": [
    "(a,b,*c)=(1,2,4,5,6)\n",
    "print(a,b,c)"
   ]
  },
  {
   "cell_type": "code",
   "execution_count": 15,
   "metadata": {},
   "outputs": [
    {
     "ename": "SyntaxError",
     "evalue": "multiple starred expressions in assignment (3197137941.py, line 1)",
     "output_type": "error",
     "traceback": [
      "\u001b[1;36m  Cell \u001b[1;32mIn[15], line 1\u001b[1;36m\u001b[0m\n\u001b[1;33m    (*a,*b,c)=(1,2,4,5,6)\u001b[0m\n\u001b[1;37m    ^\u001b[0m\n\u001b[1;31mSyntaxError\u001b[0m\u001b[1;31m:\u001b[0m multiple starred expressions in assignment\n"
     ]
    }
   ],
   "source": [
    "(*a,*b,c)=(1,2,4,5,6)\n",
    "print(a,b,c)"
   ]
  },
  {
   "cell_type": "code",
   "execution_count": 22,
   "metadata": {},
   "outputs": [
    {
     "data": {
      "text/plain": [
       "[1, 4, 7, 10]"
      ]
     },
     "execution_count": 22,
     "metadata": {},
     "output_type": "execute_result"
    }
   ],
   "source": [
    "list(range(1,11,3))"
   ]
  },
  {
   "cell_type": "code",
   "execution_count": 23,
   "metadata": {},
   "outputs": [
    {
     "data": {
      "text/plain": [
       "[1, 4, 7, 10]"
      ]
     },
     "execution_count": 23,
     "metadata": {},
     "output_type": "execute_result"
    }
   ],
   "source": [
    "list(range(1,11,3))"
   ]
  },
  {
   "attachments": {},
   "cell_type": "markdown",
   "metadata": {},
   "source": [
    "#### Syntax for For Loop"
   ]
  },
  {
   "cell_type": "code",
   "execution_count": 25,
   "metadata": {},
   "outputs": [
    {
     "name": "stdout",
     "output_type": "stream",
     "text": [
      "1\n",
      "4\n",
      "7\n",
      "10\n"
     ]
    }
   ],
   "source": [
    "iterable = list(range(1, 11,3))\n",
    "\n",
    "for i in iterable:\n",
    "    print(i)\n"
   ]
  },
  {
   "cell_type": "code",
   "execution_count": 27,
   "metadata": {},
   "outputs": [
    {
     "name": "stdout",
     "output_type": "stream",
     "text": [
      "1\n",
      "3\n"
     ]
    }
   ],
   "source": [
    "for i in range(1,7):\n",
    "    if i%2==0:\n",
    "        continue\n",
    "    if i==5:\n",
    "        break    \n",
    "    print(i)\n",
    "else:\n",
    "    print('Exited without break')"
   ]
  },
  {
   "cell_type": "code",
   "execution_count": 28,
   "metadata": {},
   "outputs": [
    {
     "name": "stdout",
     "output_type": "stream",
     "text": [
      "2\n",
      "3\n",
      "5\n"
     ]
    }
   ],
   "source": [
    "iterable=[(1,2),(1,3),(1,5)]\n",
    "\n",
    "for a,b in iterable:\n",
    "    print(a*b)"
   ]
  },
  {
   "cell_type": "code",
   "execution_count": 29,
   "metadata": {},
   "outputs": [
    {
     "name": "stdout",
     "output_type": "stream",
     "text": [
      "1 2 3\n",
      "1 3 3\n",
      "1 5 3\n"
     ]
    }
   ],
   "source": [
    "iterable=[(1,2,3),(1,3,3),(1,5,3)]\n",
    "\n",
    "for a,b,c in iterable:\n",
    "    print(a,b,c)"
   ]
  },
  {
   "cell_type": "code",
   "execution_count": 30,
   "metadata": {},
   "outputs": [
    {
     "name": "stdout",
     "output_type": "stream",
     "text": [
      "X Y 3\n",
      "X Y 3\n",
      "G U 3\n"
     ]
    }
   ],
   "source": [
    "iterable=[(('XY'),3),((\"XY\"),3),((\"GU\"),3)]\n",
    "\n",
    "for (a,b),c in iterable:\n",
    "    print(a,b,c)"
   ]
  },
  {
   "cell_type": "code",
   "execution_count": 31,
   "metadata": {},
   "outputs": [
    {
     "name": "stdout",
     "output_type": "stream",
     "text": [
      "['XY', 5] 3\n",
      "['XY', 5] 3\n",
      "['GU', 5] 3\n"
     ]
    }
   ],
   "source": [
    "iterable=[(('XY'),5,3),((\"XY\"),5,3),((\"GU\"),5,3)]\n",
    "\n",
    "for *a,c in iterable:\n",
    "    print(a,c)"
   ]
  },
  {
   "attachments": {},
   "cell_type": "markdown",
   "metadata": {},
   "source": [
    "### zip"
   ]
  },
  {
   "cell_type": "code",
   "execution_count": 33,
   "metadata": {},
   "outputs": [
    {
     "name": "stdout",
     "output_type": "stream",
     "text": [
      "[(1, 10, 10), (2, 20, 20), (3, 30, 30), (4, 40, 40), (5, 50, 50)]\n",
      "100\n",
      "800\n",
      "2700\n",
      "6400\n",
      "12500\n"
     ]
    }
   ],
   "source": [
    "l1 = [1,2,3,4,5]\n",
    "l2 = [10,20,30,40,50]\n",
    "l3 = [10,20,30,40,50]\n",
    "\n",
    "print(list(zip(l1,l2,l3)))\n",
    "\n",
    "for a,b,c in zip(l1,l2,l3):\n",
    "    print(a*b*c)"
   ]
  },
  {
   "attachments": {},
   "cell_type": "markdown",
   "metadata": {},
   "source": [
    "#### Traditional way of keeping counter/offset"
   ]
  },
  {
   "cell_type": "code",
   "execution_count": 34,
   "metadata": {},
   "outputs": [
    {
     "name": "stdout",
     "output_type": "stream",
     "text": [
      "0 1\n",
      "1 4\n",
      "2 7\n",
      "3 10\n",
      "4 13\n",
      "5 16\n",
      "6 19\n"
     ]
    }
   ],
   "source": [
    "l1=list(range(1,20,3))\n",
    "\n",
    "c=0\n",
    "for i in l1:\n",
    "    print(c,i)\n",
    "    c+=1"
   ]
  },
  {
   "attachments": {},
   "cell_type": "markdown",
   "metadata": {},
   "source": [
    "#### Pythonic way of keeping a counter/offset"
   ]
  },
  {
   "cell_type": "code",
   "execution_count": 35,
   "metadata": {},
   "outputs": [
    {
     "name": "stdout",
     "output_type": "stream",
     "text": [
      "(0, 1)\n",
      "(1, 4)\n",
      "(2, 7)\n",
      "(3, 10)\n",
      "(4, 13)\n",
      "(5, 16)\n",
      "(6, 19)\n"
     ]
    }
   ],
   "source": [
    "for i in enumerate(range(1,20,3)):\n",
    "    print(i)"
   ]
  },
  {
   "cell_type": "code",
   "execution_count": 36,
   "metadata": {},
   "outputs": [
    {
     "name": "stdout",
     "output_type": "stream",
     "text": [
      "0 1\n",
      "1 4\n",
      "2 7\n",
      "3 10\n",
      "4 13\n",
      "5 16\n",
      "6 19\n"
     ]
    }
   ],
   "source": [
    "for c,i in enumerate(range(1,20,3)):\n",
    "    print(c,i)"
   ]
  },
  {
   "attachments": {},
   "cell_type": "markdown",
   "metadata": {},
   "source": [
    "#### Nested For Loops"
   ]
  },
  {
   "cell_type": "code",
   "execution_count": 37,
   "metadata": {},
   "outputs": [
    {
     "name": "stdout",
     "output_type": "stream",
     "text": [
      "P P P \n",
      "\n",
      "t t t \n",
      "h h h \n",
      "o o o \n",
      "n n n \n"
     ]
    }
   ],
   "source": [
    "for char in 'Python':\n",
    "    for i in range(3):\n",
    "        if char=='y':\n",
    "            continue\n",
    "        print(char, end=' ')\n",
    "    print()"
   ]
  },
  {
   "attachments": {},
   "cell_type": "markdown",
   "metadata": {},
   "source": [
    "### List Comprehension"
   ]
  },
  {
   "cell_type": "code",
   "execution_count": 38,
   "metadata": {},
   "outputs": [
    {
     "name": "stdout",
     "output_type": "stream",
     "text": [
      "[0, 16, 32]\n"
     ]
    }
   ],
   "source": [
    "# traditional way\n",
    "\n",
    "l = list(range(0,11,4))\n",
    "\n",
    "l2 = []\n",
    "\n",
    "for i in l:\n",
    "    l2.append(i*4)\n",
    "\n",
    "print(l2)"
   ]
  },
  {
   "cell_type": "code",
   "execution_count": 39,
   "metadata": {},
   "outputs": [
    {
     "name": "stdout",
     "output_type": "stream",
     "text": [
      "[0, 16, 32]\n"
     ]
    }
   ],
   "source": [
    "l2 = [i*4 for i in l]\n",
    "print(l2) "
   ]
  },
  {
   "attachments": {},
   "cell_type": "markdown",
   "metadata": {},
   "source": [
    "### Map"
   ]
  },
  {
   "cell_type": "code",
   "execution_count": 41,
   "metadata": {},
   "outputs": [
    {
     "name": "stdout",
     "output_type": "stream",
     "text": [
      "[0, 20, 40]\n"
     ]
    }
   ],
   "source": [
    "def mul_by_4(i):\n",
    "    return i*5\n",
    "\n",
    "l2=map(mul_by_4,l)\n",
    "\n",
    "print(list(l2))"
   ]
  },
  {
   "cell_type": "code",
   "execution_count": null,
   "metadata": {},
   "outputs": [],
   "source": []
  }
 ],
 "metadata": {
  "kernelspec": {
   "display_name": "venv",
   "language": "python",
   "name": "python3"
  },
  "language_info": {
   "codemirror_mode": {
    "name": "ipython",
    "version": 3
   },
   "file_extension": ".py",
   "mimetype": "text/x-python",
   "name": "python",
   "nbconvert_exporter": "python",
   "pygments_lexer": "ipython3",
   "version": "3.10.0 (tags/v3.10.0:b494f59, Oct  4 2021, 19:00:18) [MSC v.1929 64 bit (AMD64)]"
  },
  "orig_nbformat": 4,
  "vscode": {
   "interpreter": {
    "hash": "478991f767ec727ba81f47b8586e90869dc162d4a23292e2e50f1d17e66a68f1"
   }
  }
 },
 "nbformat": 4,
 "nbformat_minor": 2
}
